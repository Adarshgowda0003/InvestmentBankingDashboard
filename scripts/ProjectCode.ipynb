{
 "cells": [
  {
   "cell_type": "code",
   "execution_count": 1,
   "id": "51652aa3-716d-4c15-99fe-84d4343eebd2",
   "metadata": {},
   "outputs": [
    {
     "data": {
      "text/html": [
       "<div>\n",
       "<style scoped>\n",
       "    .dataframe tbody tr th:only-of-type {\n",
       "        vertical-align: middle;\n",
       "    }\n",
       "\n",
       "    .dataframe tbody tr th {\n",
       "        vertical-align: top;\n",
       "    }\n",
       "\n",
       "    .dataframe thead th {\n",
       "        text-align: right;\n",
       "    }\n",
       "</style>\n",
       "<table border=\"1\" class=\"dataframe\">\n",
       "  <thead>\n",
       "    <tr style=\"text-align: right;\">\n",
       "      <th></th>\n",
       "      <th>Open</th>\n",
       "      <th>High</th>\n",
       "      <th>Low</th>\n",
       "      <th>Close</th>\n",
       "      <th>Volume</th>\n",
       "      <th>Dividends</th>\n",
       "      <th>Stock Splits</th>\n",
       "    </tr>\n",
       "    <tr>\n",
       "      <th>Date</th>\n",
       "      <th></th>\n",
       "      <th></th>\n",
       "      <th></th>\n",
       "      <th></th>\n",
       "      <th></th>\n",
       "      <th></th>\n",
       "      <th></th>\n",
       "    </tr>\n",
       "  </thead>\n",
       "  <tbody>\n",
       "    <tr>\n",
       "      <th>2023-06-05 00:00:00+05:30</th>\n",
       "      <td>1134.604461</td>\n",
       "      <td>1142.215393</td>\n",
       "      <td>1130.580468</td>\n",
       "      <td>1139.226196</td>\n",
       "      <td>10908682</td>\n",
       "      <td>0.0</td>\n",
       "      <td>0.0</td>\n",
       "    </tr>\n",
       "    <tr>\n",
       "      <th>2023-06-06 00:00:00+05:30</th>\n",
       "      <td>1142.077446</td>\n",
       "      <td>1144.031846</td>\n",
       "      <td>1132.213121</td>\n",
       "      <td>1140.191895</td>\n",
       "      <td>7493309</td>\n",
       "      <td>0.0</td>\n",
       "      <td>0.0</td>\n",
       "    </tr>\n",
       "    <tr>\n",
       "      <th>2023-06-07 00:00:00+05:30</th>\n",
       "      <td>1143.710008</td>\n",
       "      <td>1149.688401</td>\n",
       "      <td>1137.087771</td>\n",
       "      <td>1148.837646</td>\n",
       "      <td>10312545</td>\n",
       "      <td>0.0</td>\n",
       "      <td>0.0</td>\n",
       "    </tr>\n",
       "    <tr>\n",
       "      <th>2023-06-08 00:00:00+05:30</th>\n",
       "      <td>1152.447570</td>\n",
       "      <td>1157.437268</td>\n",
       "      <td>1145.549452</td>\n",
       "      <td>1149.527344</td>\n",
       "      <td>12071109</td>\n",
       "      <td>0.0</td>\n",
       "      <td>0.0</td>\n",
       "    </tr>\n",
       "    <tr>\n",
       "      <th>2023-06-09 00:00:00+05:30</th>\n",
       "      <td>1152.907549</td>\n",
       "      <td>1153.620363</td>\n",
       "      <td>1139.571114</td>\n",
       "      <td>1141.387695</td>\n",
       "      <td>5877018</td>\n",
       "      <td>0.0</td>\n",
       "      <td>0.0</td>\n",
       "    </tr>\n",
       "  </tbody>\n",
       "</table>\n",
       "</div>"
      ],
      "text/plain": [
       "                                  Open         High          Low        Close  \\\n",
       "Date                                                                            \n",
       "2023-06-05 00:00:00+05:30  1134.604461  1142.215393  1130.580468  1139.226196   \n",
       "2023-06-06 00:00:00+05:30  1142.077446  1144.031846  1132.213121  1140.191895   \n",
       "2023-06-07 00:00:00+05:30  1143.710008  1149.688401  1137.087771  1148.837646   \n",
       "2023-06-08 00:00:00+05:30  1152.447570  1157.437268  1145.549452  1149.527344   \n",
       "2023-06-09 00:00:00+05:30  1152.907549  1153.620363  1139.571114  1141.387695   \n",
       "\n",
       "                             Volume  Dividends  Stock Splits  \n",
       "Date                                                          \n",
       "2023-06-05 00:00:00+05:30  10908682        0.0           0.0  \n",
       "2023-06-06 00:00:00+05:30   7493309        0.0           0.0  \n",
       "2023-06-07 00:00:00+05:30  10312545        0.0           0.0  \n",
       "2023-06-08 00:00:00+05:30  12071109        0.0           0.0  \n",
       "2023-06-09 00:00:00+05:30   5877018        0.0           0.0  "
      ]
     },
     "execution_count": 1,
     "metadata": {},
     "output_type": "execute_result"
    }
   ],
   "source": [
    "import pandas as pd\n",
    "import yfinance as yf\n",
    "\n",
    "# Fetch Reliance Industries data\n",
    "reliance = yf.Ticker(\"RELIANCE.NS\")\n",
    "reliance_history = reliance.history(period=\"2y\")\n",
    "reliance_history.head()\n"
   ]
  },
  {
   "cell_type": "code",
   "execution_count": 2,
   "id": "f6843cc2-de4f-4f42-b6d6-2f24b20fc9b2",
   "metadata": {},
   "outputs": [
    {
     "data": {
      "text/html": [
       "<div>\n",
       "<style scoped>\n",
       "    .dataframe tbody tr th:only-of-type {\n",
       "        vertical-align: middle;\n",
       "    }\n",
       "\n",
       "    .dataframe tbody tr th {\n",
       "        vertical-align: top;\n",
       "    }\n",
       "\n",
       "    .dataframe thead th {\n",
       "        text-align: right;\n",
       "    }\n",
       "</style>\n",
       "<table border=\"1\" class=\"dataframe\">\n",
       "  <thead>\n",
       "    <tr style=\"text-align: right;\">\n",
       "      <th></th>\n",
       "      <th>Open</th>\n",
       "      <th>High</th>\n",
       "      <th>Low</th>\n",
       "      <th>Close</th>\n",
       "      <th>Volume</th>\n",
       "      <th>Dividends</th>\n",
       "      <th>Stock Splits</th>\n",
       "    </tr>\n",
       "    <tr>\n",
       "      <th>Date</th>\n",
       "      <th></th>\n",
       "      <th></th>\n",
       "      <th></th>\n",
       "      <th></th>\n",
       "      <th></th>\n",
       "      <th></th>\n",
       "      <th></th>\n",
       "    </tr>\n",
       "  </thead>\n",
       "  <tbody>\n",
       "    <tr>\n",
       "      <th>2023-06-05 00:00:00+05:30</th>\n",
       "      <td>949.467970</td>\n",
       "      <td>986.638379</td>\n",
       "      <td>946.802559</td>\n",
       "      <td>964.927368</td>\n",
       "      <td>5155439</td>\n",
       "      <td>0.0</td>\n",
       "      <td>0.0</td>\n",
       "    </tr>\n",
       "    <tr>\n",
       "      <th>2023-06-06 00:00:00+05:30</th>\n",
       "      <td>969.240492</td>\n",
       "      <td>976.122076</td>\n",
       "      <td>958.384987</td>\n",
       "      <td>963.182739</td>\n",
       "      <td>966295</td>\n",
       "      <td>0.0</td>\n",
       "      <td>0.0</td>\n",
       "    </tr>\n",
       "    <tr>\n",
       "      <th>2023-06-07 00:00:00+05:30</th>\n",
       "      <td>966.768939</td>\n",
       "      <td>969.240490</td>\n",
       "      <td>960.808086</td>\n",
       "      <td>964.151978</td>\n",
       "      <td>485131</td>\n",
       "      <td>0.0</td>\n",
       "      <td>0.0</td>\n",
       "    </tr>\n",
       "    <tr>\n",
       "      <th>2023-06-08 00:00:00+05:30</th>\n",
       "      <td>968.271231</td>\n",
       "      <td>983.779078</td>\n",
       "      <td>966.381200</td>\n",
       "      <td>972.390503</td>\n",
       "      <td>1389967</td>\n",
       "      <td>0.0</td>\n",
       "      <td>0.0</td>\n",
       "    </tr>\n",
       "    <tr>\n",
       "      <th>2023-06-09 00:00:00+05:30</th>\n",
       "      <td>973.117460</td>\n",
       "      <td>977.091322</td>\n",
       "      <td>950.970338</td>\n",
       "      <td>955.622681</td>\n",
       "      <td>959079</td>\n",
       "      <td>0.0</td>\n",
       "      <td>0.0</td>\n",
       "    </tr>\n",
       "  </tbody>\n",
       "</table>\n",
       "</div>"
      ],
      "text/plain": [
       "                                 Open        High         Low       Close  \\\n",
       "Date                                                                        \n",
       "2023-06-05 00:00:00+05:30  949.467970  986.638379  946.802559  964.927368   \n",
       "2023-06-06 00:00:00+05:30  969.240492  976.122076  958.384987  963.182739   \n",
       "2023-06-07 00:00:00+05:30  966.768939  969.240490  960.808086  964.151978   \n",
       "2023-06-08 00:00:00+05:30  968.271231  983.779078  966.381200  972.390503   \n",
       "2023-06-09 00:00:00+05:30  973.117460  977.091322  950.970338  955.622681   \n",
       "\n",
       "                            Volume  Dividends  Stock Splits  \n",
       "Date                                                         \n",
       "2023-06-05 00:00:00+05:30  5155439        0.0           0.0  \n",
       "2023-06-06 00:00:00+05:30   966295        0.0           0.0  \n",
       "2023-06-07 00:00:00+05:30   485131        0.0           0.0  \n",
       "2023-06-08 00:00:00+05:30  1389967        0.0           0.0  \n",
       "2023-06-09 00:00:00+05:30   959079        0.0           0.0  "
      ]
     },
     "execution_count": 2,
     "metadata": {},
     "output_type": "execute_result"
    }
   ],
   "source": [
    "# Fetch Tata Chemicals data\n",
    "tata = yf.Ticker(\"TATACHEM.NS\")\n",
    "\n",
    "# Get historical stock price for last 2 years\n",
    "tata_history = tata.history(period=\"2y\")\n",
    "\n",
    "# Display top 5 rows\n",
    "tata_history.head()\n"
   ]
  },
  {
   "cell_type": "code",
   "execution_count": 3,
   "id": "c3db1221-caca-4b5b-ad7b-c7737e5ef44d",
   "metadata": {},
   "outputs": [
    {
     "name": "stdout",
     "output_type": "stream",
     "text": [
      "Both files saved successfully!\n"
     ]
    }
   ],
   "source": [
    "# Save both datasets to CSV in the /data folder\n",
    "\n",
    "reliance_history.to_csv(\"../data/reliance_stock.csv\")\n",
    "tata_history.to_csv(\"../data/tata_chemicals_stock.csv\")\n",
    "\n",
    "print(\"Both files saved successfully!\")\n"
   ]
  },
  {
   "cell_type": "code",
   "execution_count": 4,
   "id": "c717d3ae-d88d-48b1-ba4b-a77cc6fc98dd",
   "metadata": {},
   "outputs": [
    {
     "data": {
      "text/plain": [
       "{'Company': 'Reliance Industries',\n",
       " 'Sector': 'Energy',\n",
       " 'Market Cap': 19254040592384,\n",
       " 'P/E Ratio': 27.810791,\n",
       " 'EPS': 51.16,\n",
       " 'Revenue': 9646929608704,\n",
       " 'Net Income': 696479973376,\n",
       " 'Debt': 3695749890048}"
      ]
     },
     "execution_count": 4,
     "metadata": {},
     "output_type": "execute_result"
    }
   ],
   "source": [
    "# Reliance Industries - key financial info\n",
    "reliance_info = reliance.info\n",
    "\n",
    "# Display selected financial metrics\n",
    "reliance_metrics = {\n",
    "    \"Company\": \"Reliance Industries\",\n",
    "    \"Sector\": reliance_info.get(\"sector\"),\n",
    "    \"Market Cap\": reliance_info.get(\"marketCap\"),\n",
    "    \"P/E Ratio\": reliance_info.get(\"trailingPE\"),\n",
    "    \"EPS\": reliance_info.get(\"trailingEps\"),\n",
    "    \"Revenue\": reliance_info.get(\"totalRevenue\"),\n",
    "    \"Net Income\": reliance_info.get(\"netIncomeToCommon\"),\n",
    "    \"Debt\": reliance_info.get(\"totalDebt\")\n",
    "}\n",
    "\n",
    "reliance_metrics\n"
   ]
  },
  {
   "cell_type": "code",
   "execution_count": 5,
   "id": "22029a67-631d-4cb5-91d3-c8f91e9613e6",
   "metadata": {},
   "outputs": [
    {
     "data": {
      "text/plain": [
       "{'Company': 'Tata Chemicals',\n",
       " 'Sector': 'Basic Materials',\n",
       " 'Market Cap': 233713156096,\n",
       " 'P/E Ratio': 115.10666,\n",
       " 'EPS': 7.97,\n",
       " 'Revenue': 148870004736,\n",
       " 'Net Income': 2020000000,\n",
       " 'Debt': 70719995904}"
      ]
     },
     "execution_count": 5,
     "metadata": {},
     "output_type": "execute_result"
    }
   ],
   "source": [
    "# Tata Chemicals - key financial info\n",
    "tata_info = tata.info\n",
    "\n",
    "# Display selected financial metrics\n",
    "tata_metrics = {\n",
    "    \"Company\": \"Tata Chemicals\",\n",
    "    \"Sector\": tata_info.get(\"sector\"),\n",
    "    \"Market Cap\": tata_info.get(\"marketCap\"),\n",
    "    \"P/E Ratio\": tata_info.get(\"trailingPE\"),\n",
    "    \"EPS\": tata_info.get(\"trailingEps\"),\n",
    "    \"Revenue\": tata_info.get(\"totalRevenue\"),\n",
    "    \"Net Income\": tata_info.get(\"netIncomeToCommon\"),\n",
    "    \"Debt\": tata_info.get(\"totalDebt\")\n",
    "}\n",
    "\n",
    "tata_metrics\n"
   ]
  },
  {
   "cell_type": "code",
   "execution_count": 6,
   "id": "59b7cf44-0e98-43d3-bf86-50c70add6783",
   "metadata": {},
   "outputs": [
    {
     "name": "stdout",
     "output_type": "stream",
     "text": [
      "Financial metrics saved successfully!\n"
     ]
    }
   ],
   "source": [
    "import pandas as pd\n",
    "\n",
    "# Convert to DataFrame\n",
    "metrics_df = pd.DataFrame([reliance_metrics, tata_metrics])\n",
    "\n",
    "# Save to CSV\n",
    "metrics_df.to_csv(\"../data/financial_metrics.csv\", index=False)\n",
    "\n",
    "print(\"Financial metrics saved successfully!\")\n"
   ]
  },
  {
   "cell_type": "code",
   "execution_count": null,
   "id": "728b6f21-377c-4834-b429-0b34777e94e7",
   "metadata": {},
   "outputs": [],
   "source": []
  }
 ],
 "metadata": {
  "kernelspec": {
   "display_name": "Python 3 (ipykernel)",
   "language": "python",
   "name": "python3"
  },
  "language_info": {
   "codemirror_mode": {
    "name": "ipython",
    "version": 3
   },
   "file_extension": ".py",
   "mimetype": "text/x-python",
   "name": "python",
   "nbconvert_exporter": "python",
   "pygments_lexer": "ipython3",
   "version": "3.9.21"
  }
 },
 "nbformat": 4,
 "nbformat_minor": 5
}
